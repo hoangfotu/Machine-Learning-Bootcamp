{
 "cells": [
  {
   "cell_type": "markdown",
   "id": "762a2722",
   "metadata": {},
   "source": [
    "<img align=\"center\" src=\"https://iili.io/3wI8gI.png\" style=\"height:90px\" style=\"width:30px\"/>"
   ]
  },
  {
   "cell_type": "markdown",
   "id": "b5f8dbd2",
   "metadata": {},
   "source": [
    "# Day 1 – Python Fundamentals\n",
    "\n",
    "Today is going to be all about understanding the basics of the most popular programming language in the world – Python! The concepts you'll learn here will be translatable to other programming languages as well."
   ]
  },
  {
   "cell_type": "code",
   "execution_count": 1,
   "id": "13368ad9",
   "metadata": {},
   "outputs": [],
   "source": [
    "# run this cell to save the data structures, we will use them later in this lecture.\n",
    "max_menus = {\n",
    "    \"Max Meny\": 79.00,\n",
    "    \"Max Dubbel Meny\": 109.00,\n",
    "    \"Kyckling Meny\": 79.00,\n",
    "    \"Vegetarisk Meny\": 85.00,\n",
    "    \"Max 3 Meny\": 99.00\n",
    "}\n",
    "\n",
    "queue = [90, 120, 122, 140, 139, 142, 145, 150, 160, 115, 140, 141, 122, 140, \n",
    "         139, 142, 145, 150, 160, 90, 120, 122, 140, 139, 142, 145, 150, 160]\n",
    "\n",
    "products = [{'name': 'Nintendo Switch', 'price': 3000, 'quantity': 10},  {'name': 'AirPods Pro', 'price': 2999, 'quantity': 0}, \n",
    "            {'name': 'Instant Pot', 'price': 499, 'quantity': 20},    {'name': 'Fitbit Charge 4', 'price': 1699, 'quantity': 0}, \n",
    "            {'name': 'Dyson Airwrap', 'price': 6999, 'quantity': 8}]"
   ]
  },
  {
   "cell_type": "code",
   "execution_count": null,
   "id": "c8ad57cf",
   "metadata": {},
   "outputs": [],
   "source": []
  }
 ],
 "metadata": {
  "kernelspec": {
   "display_name": "Python 3 (ipykernel)",
   "language": "python",
   "name": "python3"
  },
  "language_info": {
   "codemirror_mode": {
    "name": "ipython",
    "version": 3
   },
   "file_extension": ".py",
   "mimetype": "text/x-python",
   "name": "python",
   "nbconvert_exporter": "python",
   "pygments_lexer": "ipython3",
   "version": "3.11.5"
  },
  "varInspector": {
   "cols": {
    "lenName": 16,
    "lenType": 16,
    "lenVar": 40
   },
   "kernels_config": {
    "python": {
     "delete_cmd_postfix": "",
     "delete_cmd_prefix": "del ",
     "library": "var_list.py",
     "varRefreshCmd": "print(var_dic_list())"
    },
    "r": {
     "delete_cmd_postfix": ") ",
     "delete_cmd_prefix": "rm(",
     "library": "var_list.r",
     "varRefreshCmd": "cat(var_dic_list()) "
    }
   },
   "types_to_exclude": [
    "module",
    "function",
    "builtin_function_or_method",
    "instance",
    "_Feature"
   ],
   "window_display": false
  }
 },
 "nbformat": 4,
 "nbformat_minor": 5
}
