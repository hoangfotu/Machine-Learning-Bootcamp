{
 "cells": [
  {
   "cell_type": "markdown",
   "id": "b4587c18",
   "metadata": {},
   "source": [
    "<img align=\"center\" src=\"https://iili.io/3wI8gI.png\" style=\"height:90px\" style=\"width:30px\"/>"
   ]
  },
  {
   "cell_type": "markdown",
   "id": "1d9073da",
   "metadata": {},
   "source": [
    "# Data Analytics - Intermediate\n",
    "\n",
    "Read and inspect the dataset `Cuisine_rating.csv`\n",
    "\n",
    "The columns include:\n",
    "\n",
    "`User ID`: Identifier for the user.<br>\n",
    "`Area code`: Area code of the user's location.<br>\n",
    "`Location`: The geographical location of the user.<br>\n",
    "`Gender`: Gender of the user.<br>\n",
    "`YOB`: Year of birth.<br>\n",
    "`Marital Status`: Marital status of the user.<br>\n",
    "`Activity`: Occupation or main activity (e.g., Student, Professional).<br>\n",
    "`Budget`: Numerical value indicating budget preference.<br>\n",
    "`Cuisines`: Type of cuisine preferred.<br>\n",
    "`Alcohol`: Alcohol consumption preference.<br>\n",
    "`Smoker`: Smoking preference.<br>\n",
    "`Food Rating`: Rating given to food.<br>\n",
    "`Service Rating`: Rating given to service.<br>\n",
    "`Overall Rating`: Overall rating.<br>\n",
    "`Often A S`: Frequency of visiting (presumably restaurants or similar establishments).<br>"
   ]
  },
  {
   "cell_type": "markdown",
   "id": "715dde6e",
   "metadata": {},
   "source": [
    "# Do your own Exploratory Data Analysis\n",
    "\n",
    "Exploratory Data Analysis (EDA) is a process in data analysis where one examines datasets to summarize their main characteristics, often using statistical graphics and other data visualization methods. EDA is crucial because it allows data analysts and scientists to gain insights into the patterns, anomalies, and relationships within the data before making any assumptions or building predictive models. This initial exploration can help in understanding the data's structure, detecting errors and outliers, identifying important variables, and formulating hypotheses for further analysis. In essence, EDA is fundamental in guiding the direction of further data analysis and ensuring that subsequent conclusions and models are based on a thorough understanding of the underlying data.\n",
    "\n",
    "In this lab your task is to create an EDA without being explicity said what look at. To get the most out of this lab, you should use your business sense to detect different patterns in consumer behavior. You can get very far by looking at distribution of categories, visualised as countplots. Then, you can do multiple groupby operations and look how Food Rating, Service Rating, Overall Rating is spread across categories. Remember to write columns as you find new insights, it will help you come up with new ideas on what to examine next.\n",
    "\n",
    "\n",
    "For a data analyst to be be worthy his salt, he should be to analyse new data and find hidden patterns and  insights and, based on these insights he should provide suggestions on new actions. "
   ]
  },
  {
   "cell_type": "code",
   "execution_count": 2,
   "id": "fc9f48b2",
   "metadata": {},
   "outputs": [],
   "source": [
    "import pandas as pd\n",
    "import numpy as np\n",
    "import matplotlib.pyplot as plt\n",
    "import seaborn as sns"
   ]
  },
  {
   "cell_type": "code",
   "execution_count": 3,
   "id": "d1d9b6f0",
   "metadata": {},
   "outputs": [],
   "source": [
    "data = pd.read_csv(\"Cuisine_rating.csv\")"
   ]
  }
 ],
 "metadata": {
  "kernelspec": {
   "display_name": "Python 3 (ipykernel)",
   "language": "python",
   "name": "python3"
  },
  "language_info": {
   "codemirror_mode": {
    "name": "ipython",
    "version": 3
   },
   "file_extension": ".py",
   "mimetype": "text/x-python",
   "name": "python",
   "nbconvert_exporter": "python",
   "pygments_lexer": "ipython3",
   "version": "3.11.5"
  },
  "varInspector": {
   "cols": {
    "lenName": 16,
    "lenType": 16,
    "lenVar": 40
   },
   "kernels_config": {
    "python": {
     "delete_cmd_postfix": "",
     "delete_cmd_prefix": "del ",
     "library": "var_list.py",
     "varRefreshCmd": "print(var_dic_list())"
    },
    "r": {
     "delete_cmd_postfix": ") ",
     "delete_cmd_prefix": "rm(",
     "library": "var_list.r",
     "varRefreshCmd": "cat(var_dic_list()) "
    }
   },
   "types_to_exclude": [
    "module",
    "function",
    "builtin_function_or_method",
    "instance",
    "_Feature"
   ],
   "window_display": false
  }
 },
 "nbformat": 4,
 "nbformat_minor": 5
}
